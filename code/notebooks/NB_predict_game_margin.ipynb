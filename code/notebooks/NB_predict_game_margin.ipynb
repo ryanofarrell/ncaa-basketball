{
 "cells": [
  {
   "cell_type": "markdown",
   "metadata": {},
   "source": [
    "# Linear Regression to predict Game Margin\n",
    "## By: Ryan O'Farrell\n"
   ]
  },
  {
   "cell_type": "code",
   "execution_count": 1,
   "metadata": {},
   "outputs": [
    {
     "data": {
      "text/plain": [
       "RendererRegistry.enable('notebook')"
      ]
     },
     "execution_count": 1,
     "metadata": {},
     "output_type": "execute_result"
    }
   ],
   "source": [
    "import pandas as pd\n",
    "from sklearn.model_selection import train_test_split \n",
    "from sklearn.linear_model import LinearRegression\n",
    "from sklearn.ensemble import RandomForestRegressor\n",
    "from sklearn import metrics\n",
    "import altair as alt\n",
    "import numpy as np\n",
    "import scipy.stats as stats\n",
    "import matplotlib.pyplot as plt\n",
    "\n",
    "alt.renderers.enable('notebook')"
   ]
  },
  {
   "cell_type": "markdown",
   "metadata": {},
   "source": [
    "Read in data via loop from 2003-2019 seasons."
   ]
  },
  {
   "cell_type": "code",
   "execution_count": 2,
   "metadata": {},
   "outputs": [],
   "source": [
    "first_run = True\n",
    "for season in range(2003,2020):\n",
    "    if first_run:\n",
    "        raw_data = pd.read_csv('data/predate_games/'+str(season)+'.csv')\n",
    "        first_run = False\n",
    "    else:\n",
    "        data_to_append = pd.read_csv('data/predate_games/'+str(season)+'.csv')\n",
    "        raw_data = raw_data.append(data_to_append, sort=False)\n",
    "        del data_to_append"
   ]
  },
  {
   "cell_type": "markdown",
   "metadata": {},
   "source": [
    "Let's make a copy of the raw data so we can always come back and rerun from here"
   ]
  },
  {
   "cell_type": "code",
   "execution_count": 3,
   "metadata": {},
   "outputs": [
    {
     "data": {
      "text/plain": [
       "(167868, 190)"
      ]
     },
     "execution_count": 3,
     "metadata": {},
     "output_type": "execute_result"
    }
   ],
   "source": [
    "df = raw_data.copy()\n",
    "df.shape"
   ]
  },
  {
   "cell_type": "markdown",
   "metadata": {},
   "source": [
    "The data contains a record from each team's perspective in the game, so there are actually two times as many records as there should be. Let's get to just one record per game by:\n",
    "\n",
    "- Keeping the home team\n",
    "- Keeping the earlier alphabetical team when the location is neutral."
   ]
  },
  {
   "cell_type": "code",
   "execution_count": 4,
   "metadata": {},
   "outputs": [
    {
     "data": {
      "text/plain": [
       "(83934, 190)"
      ]
     },
     "execution_count": 4,
     "metadata": {},
     "output_type": "execute_result"
    }
   ],
   "source": [
    "df = df.loc[(df['Tm1_Loc'] == 'H') | ((df['Tm1_Loc'] == 'N') & (df['Tm1'] < df['Tm2']))]\n",
    "df.shape"
   ]
  },
  {
   "cell_type": "markdown",
   "metadata": {},
   "source": [
    "Exactly half of the records remain. There also are games early-on in the season, where the teams do not have a large sample size of prior-games to have any meaningful data. Let's see what that looks like:"
   ]
  },
  {
   "cell_type": "code",
   "execution_count": 5,
   "metadata": {},
   "outputs": [
    {
     "data": {
      "text/html": [
       "<div>\n",
       "<style scoped>\n",
       "    .dataframe tbody tr th:only-of-type {\n",
       "        vertical-align: middle;\n",
       "    }\n",
       "\n",
       "    .dataframe tbody tr th {\n",
       "        vertical-align: top;\n",
       "    }\n",
       "\n",
       "    .dataframe thead th {\n",
       "        text-align: right;\n",
       "    }\n",
       "</style>\n",
       "<table border=\"1\" class=\"dataframe\">\n",
       "  <thead>\n",
       "    <tr style=\"text-align: right;\">\n",
       "      <th></th>\n",
       "      <th>Tm1_TmGame</th>\n",
       "      <th>Tm2_TmGame</th>\n",
       "    </tr>\n",
       "  </thead>\n",
       "  <tbody>\n",
       "    <tr>\n",
       "      <th>count</th>\n",
       "      <td>83934.000000</td>\n",
       "      <td>83934.000000</td>\n",
       "    </tr>\n",
       "    <tr>\n",
       "      <th>mean</th>\n",
       "      <td>15.221484</td>\n",
       "      <td>15.162747</td>\n",
       "    </tr>\n",
       "    <tr>\n",
       "      <th>std</th>\n",
       "      <td>8.429087</td>\n",
       "      <td>8.482553</td>\n",
       "    </tr>\n",
       "    <tr>\n",
       "      <th>min</th>\n",
       "      <td>1.000000</td>\n",
       "      <td>1.000000</td>\n",
       "    </tr>\n",
       "    <tr>\n",
       "      <th>25%</th>\n",
       "      <td>8.000000</td>\n",
       "      <td>8.000000</td>\n",
       "    </tr>\n",
       "    <tr>\n",
       "      <th>50%</th>\n",
       "      <td>15.000000</td>\n",
       "      <td>15.000000</td>\n",
       "    </tr>\n",
       "    <tr>\n",
       "      <th>75%</th>\n",
       "      <td>22.000000</td>\n",
       "      <td>22.000000</td>\n",
       "    </tr>\n",
       "    <tr>\n",
       "      <th>max</th>\n",
       "      <td>35.000000</td>\n",
       "      <td>34.000000</td>\n",
       "    </tr>\n",
       "  </tbody>\n",
       "</table>\n",
       "</div>"
      ],
      "text/plain": [
       "         Tm1_TmGame    Tm2_TmGame\n",
       "count  83934.000000  83934.000000\n",
       "mean      15.221484     15.162747\n",
       "std        8.429087      8.482553\n",
       "min        1.000000      1.000000\n",
       "25%        8.000000      8.000000\n",
       "50%       15.000000     15.000000\n",
       "75%       22.000000     22.000000\n",
       "max       35.000000     34.000000"
      ]
     },
     "execution_count": 5,
     "metadata": {},
     "output_type": "execute_result"
    }
   ],
   "source": [
    "df[['Tm1_TmGame', 'Tm2_TmGame']].describe()"
   ]
  },
  {
   "cell_type": "markdown",
   "metadata": {},
   "source": [
    "The min of 1 illustrates the point. Let's set a threshold of 10 previous games by both teams as a large enough sample size to keep the record."
   ]
  },
  {
   "cell_type": "code",
   "execution_count": 6,
   "metadata": {},
   "outputs": [
    {
     "data": {
      "text/plain": [
       "(56113, 190)"
      ]
     },
     "execution_count": 6,
     "metadata": {},
     "output_type": "execute_result"
    }
   ],
   "source": [
    "game_threshold = 10\n",
    "df = df.loc[((df['Tm1_TmGame'] >= game_threshold) & (df['Tm2_TmGame'] >= game_threshold))]\n",
    "df.shape"
   ]
  },
  {
   "cell_type": "markdown",
   "metadata": {},
   "source": [
    "Now we are down to 56,113 records - still quite a few! Let's look at the field we want to predict: Tm1_GameMargin:"
   ]
  },
  {
   "cell_type": "code",
   "execution_count": 7,
   "metadata": {},
   "outputs": [
    {
     "data": {
      "text/plain": [
       "count    56113.000000\n",
       "mean         3.593677\n",
       "std         13.219671\n",
       "min        -59.000000\n",
       "25%         -5.000000\n",
       "50%          4.000000\n",
       "75%         12.000000\n",
       "max         74.000000\n",
       "Name: Tm1_GameMargin, dtype: float64"
      ]
     },
     "execution_count": 7,
     "metadata": {},
     "output_type": "execute_result"
    }
   ],
   "source": [
    "y = df['Tm1_GameMargin']\n",
    "del df['Tm1_GameMargin']\n",
    "y.describe()"
   ]
  },
  {
   "cell_type": "code",
   "execution_count": 8,
   "metadata": {},
   "outputs": [
    {
     "data": {
      "application/javascript": [
       "const spec = {\"config\": {\"view\": {\"width\": 400, \"height\": 300}, \"mark\": {\"tooltip\": null}}, \"data\": {\"name\": \"data-4303576f1d040368abdde687fc84a2c7\"}, \"mark\": \"bar\", \"encoding\": {\"x\": {\"type\": \"quantitative\", \"field\": \"GameMargin\"}, \"y\": {\"type\": \"quantitative\", \"field\": \"count\"}}, \"$schema\": \"https://vega.github.io/schema/vega-lite/v3.4.0.json\", \"datasets\": {\"data-4303576f1d040368abdde687fc84a2c7\": [{\"GameMargin\": -60, \"count\": 0}, {\"GameMargin\": -59, \"count\": 1}, {\"GameMargin\": -58, \"count\": 1}, {\"GameMargin\": -57, \"count\": 0}, {\"GameMargin\": -56, \"count\": 0}, {\"GameMargin\": -55, \"count\": 1}, {\"GameMargin\": -54, \"count\": 0}, {\"GameMargin\": -53, \"count\": 0}, {\"GameMargin\": -52, \"count\": 1}, {\"GameMargin\": -51, \"count\": 5}, {\"GameMargin\": -50, \"count\": 2}, {\"GameMargin\": -49, \"count\": 1}, {\"GameMargin\": -48, \"count\": 2}, {\"GameMargin\": -47, \"count\": 2}, {\"GameMargin\": -46, \"count\": 2}, {\"GameMargin\": -45, \"count\": 6}, {\"GameMargin\": -44, \"count\": 3}, {\"GameMargin\": -43, \"count\": 4}, {\"GameMargin\": -42, \"count\": 6}, {\"GameMargin\": -41, \"count\": 7}, {\"GameMargin\": -40, \"count\": 15}, {\"GameMargin\": -39, \"count\": 12}, {\"GameMargin\": -38, \"count\": 15}, {\"GameMargin\": -37, \"count\": 27}, {\"GameMargin\": -36, \"count\": 16}, {\"GameMargin\": -35, \"count\": 35}, {\"GameMargin\": -34, \"count\": 36}, {\"GameMargin\": -33, \"count\": 34}, {\"GameMargin\": -32, \"count\": 43}, {\"GameMargin\": -31, \"count\": 55}, {\"GameMargin\": -30, \"count\": 62}, {\"GameMargin\": -29, \"count\": 70}, {\"GameMargin\": -28, \"count\": 91}, {\"GameMargin\": -27, \"count\": 86}, {\"GameMargin\": -26, \"count\": 119}, {\"GameMargin\": -25, \"count\": 137}, {\"GameMargin\": -24, \"count\": 171}, {\"GameMargin\": -23, \"count\": 197}, {\"GameMargin\": -22, \"count\": 228}, {\"GameMargin\": -21, \"count\": 252}, {\"GameMargin\": -20, \"count\": 323}, {\"GameMargin\": -19, \"count\": 363}, {\"GameMargin\": -18, \"count\": 418}, {\"GameMargin\": -17, \"count\": 497}, {\"GameMargin\": -16, \"count\": 531}, {\"GameMargin\": -15, \"count\": 653}, {\"GameMargin\": -14, \"count\": 680}, {\"GameMargin\": -13, \"count\": 807}, {\"GameMargin\": -12, \"count\": 871}, {\"GameMargin\": -11, \"count\": 995}, {\"GameMargin\": -10, \"count\": 1111}, {\"GameMargin\": -9, \"count\": 1174}, {\"GameMargin\": -8, \"count\": 1177}, {\"GameMargin\": -7, \"count\": 1315}, {\"GameMargin\": -6, \"count\": 1309}, {\"GameMargin\": -5, \"count\": 1498}, {\"GameMargin\": -4, \"count\": 1579}, {\"GameMargin\": -3, \"count\": 1750}, {\"GameMargin\": -2, \"count\": 1646}, {\"GameMargin\": -1, \"count\": 1319}, {\"GameMargin\": 0, \"count\": 0}, {\"GameMargin\": 1, \"count\": 1418}, {\"GameMargin\": 2, \"count\": 1817}, {\"GameMargin\": 3, \"count\": 2157}, {\"GameMargin\": 4, \"count\": 1868}, {\"GameMargin\": 5, \"count\": 1891}, {\"GameMargin\": 6, \"count\": 1789}, {\"GameMargin\": 7, \"count\": 1775}, {\"GameMargin\": 8, \"count\": 1693}, {\"GameMargin\": 9, \"count\": 1699}, {\"GameMargin\": 10, \"count\": 1659}, {\"GameMargin\": 11, \"count\": 1620}, {\"GameMargin\": 12, \"count\": 1519}, {\"GameMargin\": 13, \"count\": 1403}, {\"GameMargin\": 14, \"count\": 1343}, {\"GameMargin\": 15, \"count\": 1175}, {\"GameMargin\": 16, \"count\": 1061}, {\"GameMargin\": 17, \"count\": 963}, {\"GameMargin\": 18, \"count\": 888}, {\"GameMargin\": 19, \"count\": 818}, {\"GameMargin\": 20, \"count\": 683}, {\"GameMargin\": 21, \"count\": 574}, {\"GameMargin\": 22, \"count\": 527}, {\"GameMargin\": 23, \"count\": 500}, {\"GameMargin\": 24, \"count\": 442}, {\"GameMargin\": 25, \"count\": 364}, {\"GameMargin\": 26, \"count\": 345}, {\"GameMargin\": 27, \"count\": 282}, {\"GameMargin\": 28, \"count\": 264}, {\"GameMargin\": 29, \"count\": 215}, {\"GameMargin\": 30, \"count\": 227}, {\"GameMargin\": 31, \"count\": 190}, {\"GameMargin\": 32, \"count\": 150}, {\"GameMargin\": 33, \"count\": 140}, {\"GameMargin\": 34, \"count\": 147}, {\"GameMargin\": 35, \"count\": 121}, {\"GameMargin\": 36, \"count\": 109}, {\"GameMargin\": 37, \"count\": 72}, {\"GameMargin\": 38, \"count\": 70}, {\"GameMargin\": 39, \"count\": 52}, {\"GameMargin\": 40, \"count\": 39}, {\"GameMargin\": 41, \"count\": 48}, {\"GameMargin\": 42, \"count\": 33}, {\"GameMargin\": 43, \"count\": 35}, {\"GameMargin\": 44, \"count\": 21}, {\"GameMargin\": 45, \"count\": 25}, {\"GameMargin\": 46, \"count\": 14}, {\"GameMargin\": 47, \"count\": 16}, {\"GameMargin\": 48, \"count\": 16}, {\"GameMargin\": 49, \"count\": 9}, {\"GameMargin\": 50, \"count\": 16}, {\"GameMargin\": 51, \"count\": 15}, {\"GameMargin\": 52, \"count\": 5}, {\"GameMargin\": 53, \"count\": 7}, {\"GameMargin\": 54, \"count\": 2}, {\"GameMargin\": 55, \"count\": 2}, {\"GameMargin\": 56, \"count\": 3}, {\"GameMargin\": 57, \"count\": 2}, {\"GameMargin\": 58, \"count\": 3}, {\"GameMargin\": 59, \"count\": 2}, {\"GameMargin\": 60, \"count\": 2}, {\"GameMargin\": 61, \"count\": 2}, {\"GameMargin\": 62, \"count\": 1}, {\"GameMargin\": 63, \"count\": 0}, {\"GameMargin\": 64, \"count\": 2}, {\"GameMargin\": 65, \"count\": 1}, {\"GameMargin\": 66, \"count\": 0}, {\"GameMargin\": 67, \"count\": 0}, {\"GameMargin\": 68, \"count\": 0}, {\"GameMargin\": 69, \"count\": 0}, {\"GameMargin\": 70, \"count\": 0}, {\"GameMargin\": 71, \"count\": 0}, {\"GameMargin\": 72, \"count\": 0}, {\"GameMargin\": 73, \"count\": 0}, {\"GameMargin\": 74, \"count\": 1}]}};\n",
       "const opt = {};\n",
       "const type = \"vega-lite\";\n",
       "const id = \"df4348d4-5bd9-4efd-bbc2-fcf4e1d67787\";\n",
       "\n",
       "const output_area = this;\n",
       "\n",
       "require([\"nbextensions/jupyter-vega/index\"], function(vega) {\n",
       "  const target = document.createElement(\"div\");\n",
       "  target.id = id;\n",
       "  target.className = \"vega-embed\";\n",
       "\n",
       "  const style = document.createElement(\"style\");\n",
       "  style.textContent = [\n",
       "    \".vega-embed .error p {\",\n",
       "    \"  color: firebrick;\",\n",
       "    \"  font-size: 14px;\",\n",
       "    \"}\",\n",
       "  ].join(\"\\\\n\");\n",
       "\n",
       "  // element is a jQuery wrapped DOM element inside the output area\n",
       "  // see http://ipython.readthedocs.io/en/stable/api/generated/\\\n",
       "  // IPython.display.html#IPython.display.Javascript.__init__\n",
       "  element[0].appendChild(target);\n",
       "  element[0].appendChild(style);\n",
       "\n",
       "  vega.render(\"#\" + id, spec, type, opt, output_area);\n",
       "}, function (err) {\n",
       "  if (err.requireType !== \"scripterror\") {\n",
       "    throw(err);\n",
       "  }\n",
       "});\n"
      ],
      "text/plain": [
       "<vega.vegalite.VegaLite at 0x124897750>"
      ]
     },
     "metadata": {
      "jupyter-vega": "#df4348d4-5bd9-4efd-bbc2-fcf4e1d67787"
     },
     "output_type": "display_data"
    },
    {
     "data": {
      "text/plain": []
     },
     "execution_count": 8,
     "metadata": {},
     "output_type": "execute_result"
    },
    {
     "data": {
      "image/png": "[encoded data removed]"
     },
     "metadata": {
      "jupyter-vega": "#df4348d4-5bd9-4efd-bbc2-fcf4e1d67787"
     },
     "output_type": "display_data"
    }
   ],
   "source": [
    "np_bins = np.arange(-60,76,1)\n",
    "hist, bin_edges = np.histogram(y, bins = np_bins)\n",
    "chart_data = pd.DataFrame({\n",
    "    'GameMargin': bin_edges[:-1],\n",
    "    'count': hist\n",
    "})\n",
    "\n",
    "\n",
    "alt.Chart(\n",
    "    chart_data\n",
    ").mark_bar().encode(\n",
    "    x = alt.X('GameMargin'),\n",
    "    y='count'\n",
    ")"
   ]
  },
  {
   "cell_type": "code",
   "execution_count": 9,
   "metadata": {},
   "outputs": [
    {
     "data": {
      "image/png": "[encoded data removed]",
      "text/plain": [
       "<Figure size 432x288 with 1 Axes>"
      ]
     },
     "metadata": {
      "needs_background": "light"
     },
     "output_type": "display_data"
    }
   ],
   "source": [
    "stats.probplot(y, dist='norm', plot=plt)\n",
    "plt.show()"
   ]
  },
  {
   "cell_type": "markdown",
   "metadata": {},
   "source": [
    "Data looks normal with a mean of approx. 3.6; remember we kept mostly home teams so this could be considered the home court advantage. Note the dip in the distribution at 0 points - since games don't end in ties, no margins should be 0"
   ]
  },
  {
   "cell_type": "code",
   "execution_count": 10,
   "metadata": {},
   "outputs": [],
   "source": [
    "assert hist[np.where(np_bins == 0)][0] == 0, 'Some games are ties!!'"
   ]
  },
  {
   "cell_type": "markdown",
   "metadata": {},
   "source": [
    "The fields in the data are summations of the key metrics for each game played prior to the given game. We would rather have normalized values, by game, by 40 minutes, and by possession."
   ]
  },
  {
   "cell_type": "code",
   "execution_count": 11,
   "metadata": {},
   "outputs": [],
   "source": [
    "METRICS = ['PF', 'Margin',\n",
    "            'FGM', 'FGA',\n",
    "            'FG3M', 'FG3A',\n",
    "            'FG2M', 'FG2A',\n",
    "            'FTA', 'FTM',\n",
    "            'Ast', 'ORB',\n",
    "            'DRB', 'TRB',\n",
    "            'TO', 'Stl',\n",
    "            'Blk', 'Foul']\n",
    "for tm in ['Tm1_', 'Tm2_']:\n",
    "    for perspective in ['Tm', 'Opp']:\n",
    "        for metric in METRICS:\n",
    "            df[tm+perspective+metric+'perPoss'] = df[tm+perspective+metric] / df[tm+perspective+'Poss']\n",
    "            df[tm+perspective+metric+'per40'] = df[tm+perspective+metric] / df[tm+perspective+'Mins'] * 40\n",
    "            df[tm+perspective+metric+'perGame'] = df[tm+perspective+metric] / df[tm+perspective+'Game']\n",
    "            \n",
    "    df[tm+'TmPossperGame'] = df[tm+'TmPoss'] / df[tm+'TmGame']\n",
    "    df[tm+'TmPossper40'] = df[tm+'TmPoss'] / df[tm+'TmMins'] * 40"
   ]
  },
  {
   "cell_type": "markdown",
   "metadata": {},
   "source": [
    "Let's build a function that will take any number of predictors and make a linear regression from it, and output some key metrics"
   ]
  },
  {
   "cell_type": "code",
   "execution_count": 12,
   "metadata": {},
   "outputs": [],
   "source": [
    "def run_regression(predictor_columns, data = df, _y = y):\n",
    "    X = df[predictor_columns]\n",
    "    X_train, X_test, y_train, y_test = train_test_split(X, y, test_size=0.2, random_state=0)\n",
    "    regressor = LinearRegression()  \n",
    "    regressor.fit(X_train, y_train) #training the algorithm \n",
    "    y_pred = regressor.predict(X_test)\n",
    "    compared_df = pd.DataFrame({'Actual': y_test, 'Predicted': y_pred})\n",
    "    compared_df['Error_Abs'] = abs(compared_df['Actual'] - compared_df['Predicted'])\n",
    "    compared_df['Correct_Winner'] = compared_df['Actual']*compared_df['Predicted'] > 0\n",
    "\n",
    "    print(f\"With predictors: {predictor_columns}\")\n",
    "    print(compared_df.head(),'\\n')\n",
    "    print('Mean Absolute Error:', metrics.mean_absolute_error(y_test, y_pred))  \n",
    "    print('Mean Squared Error:', metrics.mean_squared_error(y_test, y_pred))  \n",
    "    print('Root Mean Squared Error:', np.sqrt(metrics.mean_squared_error(y_test, y_pred)))\n",
    "    print('R^2:', metrics.r2_score(y_test, y_pred))\n",
    "    print(f\"Correct winner rate: {sum(compared_df['Correct_Winner'])/len(compared_df)}\")\n",
    "    print('\\n')\n",
    "    \n",
    "    return compared_df"
   ]
  },
  {
   "cell_type": "markdown",
   "metadata": {},
   "source": [
    "A quick test run of our function"
   ]
  },
  {
   "cell_type": "code",
   "execution_count": 13,
   "metadata": {},
   "outputs": [
    {
     "name": "stdout",
     "output_type": "stream",
     "text": [
      "With predictors: ['Tm1_TmMarginper40']\n",
      "      Actual  Predicted  Error_Abs  Correct_Winner\n",
      "9936      -2   1.613609   3.613609           False\n",
      "4619       9   6.550227   2.449773            True\n",
      "8569       5  -0.361932   5.361932           False\n",
      "5667      29   0.989804  28.010196            True\n",
      "9567      16   0.814816  15.185184            True \n",
      "\n",
      "Mean Absolute Error: 9.852835808721625\n",
      "Mean Squared Error: 155.107409309687\n",
      "Root Mean Squared Error: 12.454212512627484\n",
      "R^2: 0.10615570218981574\n",
      "Correct winner rate: 0.6426980308295465\n",
      "\n",
      "\n"
     ]
    }
   ],
   "source": [
    "out = run_regression(['Tm1_TmMarginper40'])"
   ]
  },
  {
   "cell_type": "markdown",
   "metadata": {},
   "source": [
    "The function works, and spits out some nice result strings. Note that using just Tm1's margin of victory value gets our MAE to approx. 9.8 points.\n",
    "\n",
    "The next question would be: is 9.8 points good?? Well, for this analysis we will use Vegas game lines as context to see if our models are good or bad. Let's see what that looks like:"
   ]
  },
  {
   "cell_type": "code",
   "execution_count": 14,
   "metadata": {},
   "outputs": [
    {
     "name": "stdout",
     "output_type": "stream",
     "text": [
      "Connected to database: dev\n"
     ]
    }
   ],
   "source": [
    "from db import get_db\n",
    "DB = get_db()\n",
    "vegasgames = pd.DataFrame(\n",
    "    list(\n",
    "        DB.games.find(\n",
    "            {'GameVegasLine':{'$exists' : True}},\n",
    "            {'_id': 0,'GameVegasLine': 1, 'OppMargin': 1, 'TmLoc': 1, 'TmName': 1, 'OppName': 1}\n",
    "        )\n",
    "    )\n",
    ")"
   ]
  },
  {
   "cell_type": "code",
   "execution_count": 15,
   "metadata": {},
   "outputs": [
    {
     "data": {
      "text/html": [
       "<div>\n",
       "<style scoped>\n",
       "    .dataframe tbody tr th:only-of-type {\n",
       "        vertical-align: middle;\n",
       "    }\n",
       "\n",
       "    .dataframe tbody tr th {\n",
       "        vertical-align: top;\n",
       "    }\n",
       "\n",
       "    .dataframe thead th {\n",
       "        text-align: right;\n",
       "    }\n",
       "</style>\n",
       "<table border=\"1\" class=\"dataframe\">\n",
       "  <thead>\n",
       "    <tr style=\"text-align: right;\">\n",
       "      <th></th>\n",
       "      <th>OppMargin</th>\n",
       "      <th>GameVegasLine</th>\n",
       "    </tr>\n",
       "  </thead>\n",
       "  <tbody>\n",
       "    <tr>\n",
       "      <th>count</th>\n",
       "      <td>175008.000000</td>\n",
       "      <td>49296.00000</td>\n",
       "    </tr>\n",
       "    <tr>\n",
       "      <th>mean</th>\n",
       "      <td>0.000000</td>\n",
       "      <td>0.00000</td>\n",
       "    </tr>\n",
       "    <tr>\n",
       "      <th>std</th>\n",
       "      <td>15.112976</td>\n",
       "      <td>9.20409</td>\n",
       "    </tr>\n",
       "    <tr>\n",
       "      <th>min</th>\n",
       "      <td>-75.000000</td>\n",
       "      <td>-39.50000</td>\n",
       "    </tr>\n",
       "    <tr>\n",
       "      <th>25%</th>\n",
       "      <td>-10.000000</td>\n",
       "      <td>-6.50000</td>\n",
       "    </tr>\n",
       "    <tr>\n",
       "      <th>50%</th>\n",
       "      <td>0.000000</td>\n",
       "      <td>0.00000</td>\n",
       "    </tr>\n",
       "    <tr>\n",
       "      <th>75%</th>\n",
       "      <td>10.000000</td>\n",
       "      <td>6.50000</td>\n",
       "    </tr>\n",
       "    <tr>\n",
       "      <th>max</th>\n",
       "      <td>75.000000</td>\n",
       "      <td>39.50000</td>\n",
       "    </tr>\n",
       "  </tbody>\n",
       "</table>\n",
       "</div>"
      ],
      "text/plain": [
       "           OppMargin  GameVegasLine\n",
       "count  175008.000000    49296.00000\n",
       "mean        0.000000        0.00000\n",
       "std        15.112976        9.20409\n",
       "min       -75.000000      -39.50000\n",
       "25%       -10.000000       -6.50000\n",
       "50%         0.000000        0.00000\n",
       "75%        10.000000        6.50000\n",
       "max        75.000000       39.50000"
      ]
     },
     "execution_count": 15,
     "metadata": {},
     "output_type": "execute_result"
    }
   ],
   "source": [
    "vegasgames.describe()"
   ]
  },
  {
   "cell_type": "code",
   "execution_count": 16,
   "metadata": {},
   "outputs": [
    {
     "data": {
      "text/html": [
       "<div>\n",
       "<style scoped>\n",
       "    .dataframe tbody tr th:only-of-type {\n",
       "        vertical-align: middle;\n",
       "    }\n",
       "\n",
       "    .dataframe tbody tr th {\n",
       "        vertical-align: top;\n",
       "    }\n",
       "\n",
       "    .dataframe thead th {\n",
       "        text-align: right;\n",
       "    }\n",
       "</style>\n",
       "<table border=\"1\" class=\"dataframe\">\n",
       "  <thead>\n",
       "    <tr style=\"text-align: right;\">\n",
       "      <th></th>\n",
       "      <th>OppName</th>\n",
       "      <th>TmLoc</th>\n",
       "      <th>TmName</th>\n",
       "      <th>OppMargin</th>\n",
       "      <th>GameVegasLine</th>\n",
       "    </tr>\n",
       "  </thead>\n",
       "  <tbody>\n",
       "    <tr>\n",
       "      <th>0</th>\n",
       "      <td>Oklahoma</td>\n",
       "      <td>H</td>\n",
       "      <td>Arizona</td>\n",
       "      <td>-23</td>\n",
       "      <td>NaN</td>\n",
       "    </tr>\n",
       "    <tr>\n",
       "      <th>1</th>\n",
       "      <td>Oklahoma</td>\n",
       "      <td>H</td>\n",
       "      <td>Kansas</td>\n",
       "      <td>-21</td>\n",
       "      <td>NaN</td>\n",
       "    </tr>\n",
       "    <tr>\n",
       "      <th>2</th>\n",
       "      <td>Oklahoma</td>\n",
       "      <td>H</td>\n",
       "      <td>Kansas</td>\n",
       "      <td>-1</td>\n",
       "      <td>NaN</td>\n",
       "    </tr>\n",
       "    <tr>\n",
       "      <th>3</th>\n",
       "      <td>Oklahoma</td>\n",
       "      <td>A</td>\n",
       "      <td>Kansas</td>\n",
       "      <td>-2</td>\n",
       "      <td>NaN</td>\n",
       "    </tr>\n",
       "    <tr>\n",
       "      <th>4</th>\n",
       "      <td>Oklahoma</td>\n",
       "      <td>N</td>\n",
       "      <td>Kansas</td>\n",
       "      <td>-17</td>\n",
       "      <td>NaN</td>\n",
       "    </tr>\n",
       "  </tbody>\n",
       "</table>\n",
       "</div>"
      ],
      "text/plain": [
       "    OppName TmLoc   TmName  OppMargin  GameVegasLine\n",
       "0  Oklahoma     H  Arizona        -23            NaN\n",
       "1  Oklahoma     H   Kansas        -21            NaN\n",
       "2  Oklahoma     H   Kansas         -1            NaN\n",
       "3  Oklahoma     A   Kansas         -2            NaN\n",
       "4  Oklahoma     N   Kansas        -17            NaN"
      ]
     },
     "execution_count": 16,
     "metadata": {},
     "output_type": "execute_result"
    }
   ],
   "source": [
    "vegasgames.head()"
   ]
  },
  {
   "cell_type": "markdown",
   "metadata": {},
   "source": [
    "Note that some games do not have a game line, and we have the same 'double record' problem as before, let's address those."
   ]
  },
  {
   "cell_type": "code",
   "execution_count": 17,
   "metadata": {},
   "outputs": [],
   "source": [
    "vegasgames = vegasgames.loc[np.isnan(vegasgames['GameVegasLine']) == False]\n",
    "vegasgames = vegasgames.loc[(vegasgames['TmLoc'] == 'H') | ((vegasgames['TmLoc'] == 'N') & (vegasgames['TmName'] < vegasgames['OppName']))]"
   ]
  },
  {
   "cell_type": "code",
   "execution_count": 18,
   "metadata": {},
   "outputs": [
    {
     "data": {
      "text/html": [
       "<div>\n",
       "<style scoped>\n",
       "    .dataframe tbody tr th:only-of-type {\n",
       "        vertical-align: middle;\n",
       "    }\n",
       "\n",
       "    .dataframe tbody tr th {\n",
       "        vertical-align: top;\n",
       "    }\n",
       "\n",
       "    .dataframe thead th {\n",
       "        text-align: right;\n",
       "    }\n",
       "</style>\n",
       "<table border=\"1\" class=\"dataframe\">\n",
       "  <thead>\n",
       "    <tr style=\"text-align: right;\">\n",
       "      <th></th>\n",
       "      <th>OppMargin</th>\n",
       "      <th>GameVegasLine</th>\n",
       "    </tr>\n",
       "  </thead>\n",
       "  <tbody>\n",
       "    <tr>\n",
       "      <th>count</th>\n",
       "      <td>24648.000000</td>\n",
       "      <td>24648.000000</td>\n",
       "    </tr>\n",
       "    <tr>\n",
       "      <th>mean</th>\n",
       "      <td>-3.897679</td>\n",
       "      <td>-4.050511</td>\n",
       "    </tr>\n",
       "    <tr>\n",
       "      <th>std</th>\n",
       "      <td>13.437799</td>\n",
       "      <td>8.264967</td>\n",
       "    </tr>\n",
       "    <tr>\n",
       "      <th>min</th>\n",
       "      <td>-66.000000</td>\n",
       "      <td>-39.500000</td>\n",
       "    </tr>\n",
       "    <tr>\n",
       "      <th>25%</th>\n",
       "      <td>-12.000000</td>\n",
       "      <td>-9.500000</td>\n",
       "    </tr>\n",
       "    <tr>\n",
       "      <th>50%</th>\n",
       "      <td>-4.000000</td>\n",
       "      <td>-4.500000</td>\n",
       "    </tr>\n",
       "    <tr>\n",
       "      <th>75%</th>\n",
       "      <td>5.000000</td>\n",
       "      <td>2.000000</td>\n",
       "    </tr>\n",
       "    <tr>\n",
       "      <th>max</th>\n",
       "      <td>58.000000</td>\n",
       "      <td>35.000000</td>\n",
       "    </tr>\n",
       "  </tbody>\n",
       "</table>\n",
       "</div>"
      ],
      "text/plain": [
       "          OppMargin  GameVegasLine\n",
       "count  24648.000000   24648.000000\n",
       "mean      -3.897679      -4.050511\n",
       "std       13.437799       8.264967\n",
       "min      -66.000000     -39.500000\n",
       "25%      -12.000000      -9.500000\n",
       "50%       -4.000000      -4.500000\n",
       "75%        5.000000       2.000000\n",
       "max       58.000000      35.000000"
      ]
     },
     "execution_count": 18,
     "metadata": {},
     "output_type": "execute_result"
    }
   ],
   "source": [
    "vegasgames.describe()"
   ]
  },
  {
   "cell_type": "markdown",
   "metadata": {},
   "source": [
    "We can see that home teams are favored by ~4.0 points, which is not much different than the average home margin of victory.\n",
    "\n",
    "Now let's get some comparable metrics if we were to use Vegas as our predictor."
   ]
  },
  {
   "cell_type": "code",
   "execution_count": 19,
   "metadata": {
    "scrolled": true
   },
   "outputs": [
    {
     "name": "stdout",
     "output_type": "stream",
     "text": [
      "Mean Absolute Error: 8.289394677052904\n",
      "Mean Squared Error: 111.23598263550795\n",
      "Root Mean Squared Error: 10.546847047127779\n",
      "R^2: 0.38396318612574865\n",
      "Correct winner rate: 0.7273612463485881\n",
      "\n",
      "\n"
     ]
    }
   ],
   "source": [
    "print('Mean Absolute Error:', metrics.mean_absolute_error(vegasgames['OppMargin'], vegasgames['GameVegasLine']))  \n",
    "print('Mean Squared Error:', metrics.mean_squared_error(vegasgames['OppMargin'], vegasgames['GameVegasLine'])) \n",
    "print('Root Mean Squared Error:', np.sqrt(metrics.mean_squared_error(vegasgames['OppMargin'], vegasgames['GameVegasLine'])))\n",
    "print('R^2:', metrics.r2_score(vegasgames['OppMargin'], vegasgames['GameVegasLine']))\n",
    "vegasgames['Correct_Winner'] = vegasgames['OppMargin']*vegasgames['GameVegasLine'] > 0\n",
    "print(f\"Correct winner rate: {sum(vegasgames['Correct_Winner'])/len(vegasgames)}\")\n",
    "print('\\n')"
   ]
  },
  {
   "cell_type": "markdown",
   "metadata": {},
   "source": [
    "Interesting - even vegas can only get a MAE of approx. 8.29 points, and only correctly predicts the winner 72.7% of the time."
   ]
  },
  {
   "cell_type": "markdown",
   "metadata": {},
   "source": [
    "With that in mind, let's try a few different predictors for our linear regression:"
   ]
  },
  {
   "cell_type": "code",
   "execution_count": 20,
   "metadata": {},
   "outputs": [],
   "source": [
    "def get_included_columns(included_predictors):\n",
    "    included_columns = []\n",
    "\n",
    "    for prefix in ['Tm1_', 'Tm2_']:\n",
    "        for pred in included_predictors:\n",
    "            included_columns.append(prefix+pred)\n",
    "    return included_columns"
   ]
  },
  {
   "cell_type": "code",
   "execution_count": 21,
   "metadata": {},
   "outputs": [
    {
     "name": "stdout",
     "output_type": "stream",
     "text": [
      "With predictors: ['Tm1_TmMarginper40', 'Tm2_TmMarginper40']\n",
      "      Actual  Predicted  Error_Abs  Correct_Winner\n",
      "9936      -2  -0.321401   1.678599            True\n",
      "4619       9   9.545720   0.545720            True\n",
      "8569       5  -0.069630   5.069630           False\n",
      "5667      29  -1.807367  30.807367           False\n",
      "9567      16   0.860880  15.139120            True \n",
      "\n",
      "Mean Absolute Error: 8.737568468817878\n",
      "Mean Squared Error: 122.4560869757086\n",
      "Root Mean Squared Error: 11.065987844549108\n",
      "R^2: 0.2943169152103867\n",
      "Correct winner rate: 0.7077430277109508\n",
      "\n",
      "\n"
     ]
    }
   ],
   "source": [
    "included_predictors = get_included_columns(['TmMarginper40'])\n",
    "out = run_regression(included_predictors)"
   ]
  },
  {
   "cell_type": "markdown",
   "metadata": {},
   "source": [
    "Simply using each team's margin of victory coming in results in a MAE of 8.7 and a correct winner rate of 70.8%!\n",
    "\n",
    "\n",
    "Let's see which normalization (per40, perGame, or perPoss) yields the best results..."
   ]
  },
  {
   "cell_type": "code",
   "execution_count": 22,
   "metadata": {},
   "outputs": [
    {
     "name": "stdout",
     "output_type": "stream",
     "text": [
      "With predictors: ['Tm1_TmMarginperPoss', 'Tm2_TmMarginperPoss']\n",
      "      Actual  Predicted  Error_Abs  Correct_Winner\n",
      "9936      -2  -0.190841   1.809159            True\n",
      "4619       9   9.685666   0.685666            True\n",
      "8569       5  -0.200530   5.200530           False\n",
      "5667      29  -2.139576  31.139576           False\n",
      "9567      16   0.608949  15.391051            True \n",
      "\n",
      "Mean Absolute Error: 8.74866606708296\n",
      "Mean Squared Error: 122.63520718302149\n",
      "Root Mean Squared Error: 11.07407816402889\n",
      "R^2: 0.29328469130411583\n",
      "Correct winner rate: 0.706762897620957\n",
      "\n",
      "\n"
     ]
    }
   ],
   "source": [
    "included_predictors = get_included_columns(['TmMarginperPoss'])\n",
    "out = run_regression(included_predictors)"
   ]
  },
  {
   "cell_type": "code",
   "execution_count": 23,
   "metadata": {},
   "outputs": [
    {
     "name": "stdout",
     "output_type": "stream",
     "text": [
      "With predictors: ['Tm1_TmMarginperGame', 'Tm2_TmMarginperGame']\n",
      "      Actual  Predicted  Error_Abs  Correct_Winner\n",
      "9936      -2  -0.300913   1.699087            True\n",
      "4619       9   9.647026   0.647026            True\n",
      "8569       5  -0.051236   5.051236           False\n",
      "5667      29  -1.852260  30.852260           False\n",
      "9567      16   0.826634  15.173366            True \n",
      "\n",
      "Mean Absolute Error: 8.73755972749915\n",
      "Mean Squared Error: 122.45864413910512\n",
      "Root Mean Squared Error: 11.066103385523972\n",
      "R^2: 0.2943021789322765\n",
      "Correct winner rate: 0.7072084112982269\n",
      "\n",
      "\n"
     ]
    }
   ],
   "source": [
    "included_predictors = get_included_columns(['TmMarginperGame'])\n",
    "out = run_regression(included_predictors)"
   ]
  },
  {
   "cell_type": "markdown",
   "metadata": {},
   "source": [
    "Looks like per40 stats are the best. Let's stick with those and dig deeper into various other metrics as predictors"
   ]
  },
  {
   "cell_type": "code",
   "execution_count": 24,
   "metadata": {},
   "outputs": [
    {
     "name": "stdout",
     "output_type": "stream",
     "text": [
      "With predictors: ['Tm1_TmPFper40', 'Tm1_OppPFper40', 'Tm2_TmPFper40', 'Tm2_OppPFper40']\n",
      "      Actual  Predicted  Error_Abs  Correct_Winner\n",
      "9936      -2  -0.318115   1.681885            True\n",
      "4619       9   9.543339   0.543339            True\n",
      "8569       5  -0.076143   5.076143           False\n",
      "5667      29  -1.814098  30.814098           False\n",
      "9567      16   0.883224  15.116776            True \n",
      "\n",
      "Mean Absolute Error: 8.737148156296241\n",
      "Mean Squared Error: 122.44834593673556\n",
      "Root Mean Squared Error: 11.06563807183009\n",
      "R^2: 0.29436152483655464\n",
      "Correct winner rate: 0.7078321304464047\n",
      "\n",
      "\n"
     ]
    }
   ],
   "source": [
    "included_predictors = get_included_columns(['TmPFper40', 'OppPFper40'])\n",
    "out = run_regression(included_predictors)"
   ]
  },
  {
   "cell_type": "code",
   "execution_count": 25,
   "metadata": {},
   "outputs": [
    {
     "name": "stdout",
     "output_type": "stream",
     "text": [
      "With predictors: ['Tm1_TmPossper40', 'Tm1_TmFGMper40', 'Tm1_OppFGMper40', 'Tm1_TmFGAper40', 'Tm1_OppFGAper40', 'Tm1_TmFG3Mper40', 'Tm1_OppFG3Mper40', 'Tm1_TmFG3Aper40', 'Tm1_OppFG3Aper40', 'Tm1_TmFG2Mper40', 'Tm1_OppFG2Mper40', 'Tm1_TmFG2Aper40', 'Tm1_OppFG2Aper40', 'Tm1_TmFTAper40', 'Tm1_OppFTAper40', 'Tm1_TmFTMper40', 'Tm1_OppFTMper40', 'Tm1_TmAstper40', 'Tm1_OppAstper40', 'Tm1_TmORBper40', 'Tm1_OppORBper40', 'Tm1_TmDRBper40', 'Tm1_OppDRBper40', 'Tm1_TmTRBper40', 'Tm1_OppTRBper40', 'Tm1_TmTOper40', 'Tm1_OppTOper40', 'Tm1_TmStlper40', 'Tm1_OppStlper40', 'Tm1_TmBlkper40', 'Tm1_OppBlkper40', 'Tm1_TmFoulper40', 'Tm1_OppFoulper40', 'Tm2_TmPossper40', 'Tm2_TmFGMper40', 'Tm2_OppFGMper40', 'Tm2_TmFGAper40', 'Tm2_OppFGAper40', 'Tm2_TmFG3Mper40', 'Tm2_OppFG3Mper40', 'Tm2_TmFG3Aper40', 'Tm2_OppFG3Aper40', 'Tm2_TmFG2Mper40', 'Tm2_OppFG2Mper40', 'Tm2_TmFG2Aper40', 'Tm2_OppFG2Aper40', 'Tm2_TmFTAper40', 'Tm2_OppFTAper40', 'Tm2_TmFTMper40', 'Tm2_OppFTMper40', 'Tm2_TmAstper40', 'Tm2_OppAstper40', 'Tm2_TmORBper40', 'Tm2_OppORBper40', 'Tm2_TmDRBper40', 'Tm2_OppDRBper40', 'Tm2_TmTRBper40', 'Tm2_OppTRBper40', 'Tm2_TmTOper40', 'Tm2_OppTOper40', 'Tm2_TmStlper40', 'Tm2_OppStlper40', 'Tm2_TmBlkper40', 'Tm2_OppBlkper40', 'Tm2_TmFoulper40', 'Tm2_OppFoulper40']\n",
      "      Actual  Predicted  Error_Abs  Correct_Winner\n",
      "9936      -2  -0.225408   1.774592            True\n",
      "4619       9   8.725684   0.274316            True\n",
      "8569       5   2.141210   2.858790            True\n",
      "5667      29   0.107660  28.892340            True\n",
      "9567      16  -0.356951  16.356951           False \n",
      "\n",
      "Mean Absolute Error: 8.65460778977353\n",
      "Mean Squared Error: 119.98693932435152\n",
      "Root Mean Squared Error: 10.953854998326001\n",
      "R^2: 0.3085459811102005\n",
      "Correct winner rate: 0.71041610977457\n",
      "\n",
      "\n"
     ]
    }
   ],
   "source": [
    "preds = ['TmPossper40']\n",
    "for metric in METRICS:\n",
    "    for prefix in ['Tm', 'Opp']:\n",
    "        if metric not in ['Margin', 'PF']:\n",
    "            preds.append(prefix+metric+'per40')\n",
    "\n",
    "included_predictors = get_included_columns(preds)\n",
    "out = run_regression(included_predictors)"
   ]
  },
  {
   "cell_type": "markdown",
   "metadata": {},
   "source": [
    "Our last run, using every metric except Margins and PFs results in a MAE of 8.65 and a correct winner rate of 71% - not far from Vegas's 8.29 and 72.7%.\n"
   ]
  },
  {
   "cell_type": "markdown",
   "metadata": {},
   "source": [
    "Now let's opponent-adjust all the metrics.\n",
    "\n"
   ]
  },
  {
   "cell_type": "code",
   "execution_count": 26,
   "metadata": {},
   "outputs": [],
   "source": [
    "def opponent_adjust_metrics(data = df, mets=METRICS):\n",
    "    for persp in ['Tm1_', 'Tm2_']:\n",
    "        for PREFIX in ['Tm', 'Opp']:\n",
    "            OTHER_PREFIX = 'Opp' if PREFIX == 'Tm' else 'Tm'\n",
    "            for METRIC in mets:\n",
    "                for DENOM in ['per40', 'perGame', 'perPoss']:\n",
    "                    NORMALIZE_CONST = 40 if DENOM == 'per40' else 1\n",
    "                    DENOM_FIELD = 'Mins' if DENOM == 'per40' else DENOM[-4:]\n",
    "                    data[persp+'OA_'+PREFIX+METRIC+DENOM] = \\\n",
    "                        (data[persp+PREFIX+METRIC+DENOM]) - \\\n",
    "                        (\n",
    "                            (data[persp+'OppSum_'+OTHER_PREFIX+METRIC] - data[persp+PREFIX+METRIC]) /\n",
    "                            (data[persp+'OppSum_'+OTHER_PREFIX+DENOM_FIELD] - data[persp+PREFIX+DENOM_FIELD])\n",
    "                        ) * NORMALIZE_CONST\n",
    "    return data"
   ]
  },
  {
   "cell_type": "code",
   "execution_count": 27,
   "metadata": {},
   "outputs": [],
   "source": [
    "df = opponent_adjust_metrics()"
   ]
  },
  {
   "cell_type": "markdown",
   "metadata": {},
   "source": [
    "Let's try some more regressions, using opponent-adjusted metrics"
   ]
  },
  {
   "cell_type": "code",
   "execution_count": 28,
   "metadata": {},
   "outputs": [
    {
     "name": "stdout",
     "output_type": "stream",
     "text": [
      "With predictors: ['Tm1_OA_TmMarginper40', 'Tm2_OA_TmMarginper40']\n",
      "      Actual  Predicted  Error_Abs  Correct_Winner\n",
      "9936      -2  -2.253758   0.253758            True\n",
      "4619       9   5.895027   3.104973            True\n",
      "8569       5  -0.027906   5.027906           False\n",
      "5667      29  -0.892662  29.892662           False\n",
      "9567      16  -0.167941  16.167941           False \n",
      "\n",
      "Mean Absolute Error: 8.538813522921942\n",
      "Mean Squared Error: 116.92437780843329\n",
      "Root Mean Squared Error: 10.813157624322013\n",
      "R^2: 0.3261947392184018\n",
      "Correct winner rate: 0.7159404793727168\n",
      "\n",
      "\n"
     ]
    }
   ],
   "source": [
    "included_predictors = get_included_columns(['OA_TmMarginper40']) # This is essentially margin\n",
    "out = run_regression(included_predictors)"
   ]
  },
  {
   "cell_type": "markdown",
   "metadata": {},
   "source": [
    "Wow - already our MAE has dipped to 8.54 with a correct winner rate of 71.6%, only using each team's opponent-adjusted margin of victory!"
   ]
  },
  {
   "cell_type": "code",
   "execution_count": 29,
   "metadata": {},
   "outputs": [
    {
     "name": "stdout",
     "output_type": "stream",
     "text": [
      "With predictors: ['Tm1_OA_TmFGMper40', 'Tm1_OA_OppFGMper40', 'Tm1_OA_TmFGAper40', 'Tm1_OA_OppFGAper40', 'Tm1_OA_TmFG3Mper40', 'Tm1_OA_OppFG3Mper40', 'Tm1_OA_TmFG3Aper40', 'Tm1_OA_OppFG3Aper40', 'Tm1_OA_TmFG2Mper40', 'Tm1_OA_OppFG2Mper40', 'Tm1_OA_TmFG2Aper40', 'Tm1_OA_OppFG2Aper40', 'Tm1_OA_TmFTAper40', 'Tm1_OA_OppFTAper40', 'Tm1_OA_TmFTMper40', 'Tm1_OA_OppFTMper40', 'Tm1_OA_TmAstper40', 'Tm1_OA_OppAstper40', 'Tm1_OA_TmORBper40', 'Tm1_OA_OppORBper40', 'Tm1_OA_TmDRBper40', 'Tm1_OA_OppDRBper40', 'Tm1_OA_TmTRBper40', 'Tm1_OA_OppTRBper40', 'Tm1_OA_TmTOper40', 'Tm1_OA_OppTOper40', 'Tm1_OA_TmStlper40', 'Tm1_OA_OppStlper40', 'Tm1_OA_TmBlkper40', 'Tm1_OA_OppBlkper40', 'Tm1_OA_TmFoulper40', 'Tm1_OA_OppFoulper40', 'Tm2_OA_TmFGMper40', 'Tm2_OA_OppFGMper40', 'Tm2_OA_TmFGAper40', 'Tm2_OA_OppFGAper40', 'Tm2_OA_TmFG3Mper40', 'Tm2_OA_OppFG3Mper40', 'Tm2_OA_TmFG3Aper40', 'Tm2_OA_OppFG3Aper40', 'Tm2_OA_TmFG2Mper40', 'Tm2_OA_OppFG2Mper40', 'Tm2_OA_TmFG2Aper40', 'Tm2_OA_OppFG2Aper40', 'Tm2_OA_TmFTAper40', 'Tm2_OA_OppFTAper40', 'Tm2_OA_TmFTMper40', 'Tm2_OA_OppFTMper40', 'Tm2_OA_TmAstper40', 'Tm2_OA_OppAstper40', 'Tm2_OA_TmORBper40', 'Tm2_OA_OppORBper40', 'Tm2_OA_TmDRBper40', 'Tm2_OA_OppDRBper40', 'Tm2_OA_TmTRBper40', 'Tm2_OA_OppTRBper40', 'Tm2_OA_TmTOper40', 'Tm2_OA_OppTOper40', 'Tm2_OA_TmStlper40', 'Tm2_OA_OppStlper40', 'Tm2_OA_TmBlkper40', 'Tm2_OA_OppBlkper40', 'Tm2_OA_TmFoulper40', 'Tm2_OA_OppFoulper40']\n",
      "      Actual  Predicted  Error_Abs  Correct_Winner\n",
      "9936      -2  -2.380704   0.380704            True\n",
      "4619       9   5.342651   3.657349            True\n",
      "8569       5   0.997440   4.002560            True\n",
      "5667      29   0.699557  28.300443            True\n",
      "9567      16  -1.464097  17.464097           False \n",
      "\n",
      "Mean Absolute Error: 8.483572832277217\n",
      "Mean Squared Error: 115.40272940196733\n",
      "Root Mean Squared Error: 10.742566239124027\n",
      "R^2: 0.3349636094963905\n",
      "Correct winner rate: 0.7181680477590662\n",
      "\n",
      "\n"
     ]
    }
   ],
   "source": [
    "preds = []\n",
    "for metric in METRICS:\n",
    "    for prefix in ['Tm', 'Opp']:\n",
    "        if metric not in ['Margin', 'PF']:\n",
    "            preds.append('OA_'+prefix+metric+'per40')\n",
    "\n",
    "included_predictors = get_included_columns(preds)\n",
    "out = run_regression(included_predictors)"
   ]
  },
  {
   "cell_type": "markdown",
   "metadata": {},
   "source": [
    "Let's compare the linear regression results to a small, simple random forest"
   ]
  },
  {
   "cell_type": "code",
   "execution_count": 30,
   "metadata": {},
   "outputs": [],
   "source": [
    "def run_rf_regression(predictor_columns, data = df, _y = y):\n",
    "    X = df[predictor_columns]\n",
    "    X_train, X_test, y_train, y_test = train_test_split(X, y, test_size=0.2, random_state=0)\n",
    "    rf_regr = RandomForestRegressor(\n",
    "        n_estimators = 10, \n",
    "        criterion = 'mae', \n",
    "        max_depth=3, \n",
    "        random_state=0, \n",
    "        verbose=1, \n",
    "        n_jobs=-1,\n",
    "        min_samples_split = 4\n",
    "    )\n",
    "    rf_regr.fit(X_train, y_train) #training the algorithm \n",
    "    y_pred = rf_regr.predict(X_test)\n",
    "    compared_df = pd.DataFrame({'Actual': y_test, 'Predicted': y_pred})\n",
    "    compared_df['Error_Abs'] = abs(compared_df['Actual'] - compared_df['Predicted'])\n",
    "    compared_df['Correct_Winner'] = compared_df['Actual']*compared_df['Predicted'] > 0\n",
    "\n",
    "    print(f\"With predictors: {predictor_columns}\")\n",
    "    print(compared_df.head(),'\\n')\n",
    "    print('Mean Absolute Error:', metrics.mean_absolute_error(y_test, y_pred))  \n",
    "    print('Mean Squared Error:', metrics.mean_squared_error(y_test, y_pred))  \n",
    "    print('Root Mean Squared Error:', np.sqrt(metrics.mean_squared_error(y_test, y_pred)))\n",
    "    print('R^2:', metrics.r2_score(y_test, y_pred))\n",
    "    print(f\"Correct winner rate: {sum(compared_df['Correct_Winner'])/len(compared_df)}\")\n",
    "    print('\\n')\n",
    "    \n",
    "    return compared_df\n"
   ]
  },
  {
   "cell_type": "code",
   "execution_count": 31,
   "metadata": {},
   "outputs": [
    {
     "name": "stderr",
     "output_type": "stream",
     "text": [
      "[Parallel(n_jobs=-1)]: Using backend ThreadingBackend with 4 concurrent workers.\n",
      "[Parallel(n_jobs=-1)]: Done  10 out of  10 | elapsed:  2.0min finished\n",
      "[Parallel(n_jobs=4)]: Using backend ThreadingBackend with 4 concurrent workers.\n",
      "[Parallel(n_jobs=4)]: Done  10 out of  10 | elapsed:    0.0s finished\n"
     ]
    },
    {
     "name": "stdout",
     "output_type": "stream",
     "text": [
      "With predictors: ['Tm1_OA_TmMarginper40', 'Tm2_OA_TmMarginper40']\n",
      "      Actual  Predicted  Error_Abs  Correct_Winner\n",
      "9936      -2       -4.1        2.1            True\n",
      "4619       9        6.0        3.0            True\n",
      "8569       5        0.3        4.7            True\n",
      "5667      29       -3.5       32.5           False\n",
      "9567      16       -0.6       16.6           False \n",
      "\n",
      "Mean Absolute Error: 9.01959369152633\n",
      "Mean Squared Error: 130.94178829190056\n",
      "Root Mean Squared Error: 11.44297986941778\n",
      "R^2: 0.24541599056626107\n",
      "Correct winner rate: 0.6933083845674062\n",
      "\n",
      "\n"
     ]
    }
   ],
   "source": [
    "included_predictors = get_included_columns(['OA_TmMarginper40']) \n",
    "out = run_rf_regression(included_predictors)"
   ]
  },
  {
   "cell_type": "markdown",
   "metadata": {},
   "source": [
    "Interestingly, the random forest did worse than a simple regression on the same predictors...\n",
    "\n",
    "I know that running the random forest with more predictors will take loads of time, so that's a task for another day (and likely will require me to shift the workload to the cloud)\n",
    "\n",
    "Next steps will be to see if changing the game threshold has an impact on predictability, and tie that to an analysis of factors where my predictions are more accurate (late-season games, certain margins I am very confident about, etc.). For example, if my model is better than vegas in any subset, that could be a place where I focus my future explorations."
   ]
  }
 ],
 "metadata": {
  "file_extension": ".py",
  "kernelspec": {
   "display_name": "Python 3",
   "language": "python",
   "name": "python3"
  },
  "language_info": {
   "codemirror_mode": {
    "name": "ipython",
    "version": 3
   },
   "file_extension": ".py",
   "mimetype": "text/x-python",
   "name": "python",
   "nbconvert_exporter": "python",
   "pygments_lexer": "ipython3",
   "version": "3.7.5"
  },
  "mimetype": "text/x-python",
  "name": "python",
  "npconvert_exporter": "python",
  "pygments_lexer": "ipython3",
  "version": 3
 },
 "nbformat": 4,
 "nbformat_minor": 2
}
