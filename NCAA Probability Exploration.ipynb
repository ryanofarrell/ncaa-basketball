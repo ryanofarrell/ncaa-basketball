{
 "cells": [
  {
   "cell_type": "markdown",
   "metadata": {},
   "source": [
    "Hello! Welcome to my notebook.\n",
    "\n",
    "First thing: Import libraries and connect to the database"
   ]
  },
  {
   "cell_type": "code",
   "execution_count": 85,
   "metadata": {},
   "outputs": [
    {
     "name": "stdout",
     "output_type": "stream",
     "text": [
      "Connected to database: dev\n"
     ]
    }
   ],
   "source": [
    "from db import get_db\n",
    "import numpy as np\n",
    "import pandas as pd\n",
    "import matplotlib.pyplot as plt\n",
    "db=get_db()"
   ]
  },
  {
   "cell_type": "markdown",
   "metadata": {},
   "source": []
  },
  {
   "cell_type": "code",
   "execution_count": 64,
   "metadata": {},
   "outputs": [
    {
     "name": "stdout",
     "output_type": "stream",
     "text": [
      "{'_id': {'TmName': 'North Carolina', 'Season': 2008}, 'TmPF': 3016}\n",
      "{'_id': {'TmName': 'UCLA', 'Season': 2017}, 'TmPF': 2982}\n",
      "{'_id': {'TmName': 'Villanova', 'Season': 2018}, 'TmPF': 2960}\n",
      "{'_id': {'TmName': 'North Carolina', 'Season': 2007}, 'TmPF': 2933}\n",
      "{'_id': {'TmName': 'Kentucky', 'Season': 2017}, 'TmPF': 2922}\n",
      "{'_id': {'TmName': 'NE Omaha', 'Season': 2012}, 'TmPF': 1103}\n",
      "{'_id': {'TmName': 'Baylor', 'Season': 2006}, 'TmPF': 1074}\n",
      "{'_id': {'TmName': 'North Dakota', 'Season': 2009}, 'TmPF': 976}\n",
      "{'_id': {'TmName': 'South Dakota', 'Season': 2009}, 'TmPF': 950}\n",
      "{'_id': {'TmName': 'Houston Bap', 'Season': 2008}, 'TmPF': 700}\n"
     ]
    },
    {
     "data": {
      "text/plain": [
       "[None, None, None, None, None]"
      ]
     },
     "execution_count": 64,
     "metadata": {},
     "output_type": "execute_result"
    }
   ],
   "source": [
    "pipeline = [\n",
    "    {'$match':{'OppAst':{'$ne':np.nan}}},\n",
    "    {'$group':{'_id':{'TmName':'$TmName','Season':'$Season'},\n",
    "               'TmPF':{'$sum':'$TmPF'}}},\n",
    "    {'$sort':{'TmPF':-1}}\n",
    "]\n",
    "results = db.games.aggregate(pipeline)\n",
    "results = list(results)\n",
    "[print(row) for row in results[0:5]]\n",
    "[print(row) for row in results[-5:]]\n",
    "\n"
   ]
  },
  {
   "cell_type": "code",
   "execution_count": 129,
   "metadata": {},
   "outputs": [
    {
     "data": {
      "image/png": "[encoded data removed]",
      "text/plain": [
       "<Figure size 432x288 with 2 Axes>"
      ]
     },
     "metadata": {
      "needs_background": "light"
     },
     "output_type": "display_data"
    }
   ],
   "source": [
    "query = {'OppAst':{'$ne':np.nan},\n",
    "        'TmName':'Duke'\n",
    "         #,'Season':2018\n",
    "        }\n",
    "fields = {'_id':0,\n",
    "          'TmPF':1,\n",
    "          'OppPF':1}\n",
    "results = db.games.find(query,fields)\n",
    "temp = list(results)\n",
    "df = pd.DataFrame(temp)\n",
    "fig, axes = plt.subplots(2, 1,sharex=True)\n",
    "axes[0].hist(df.TmPF,bins=np.arange(0, 130, 5).tolist(),label='Pts For')\n",
    "axes[1].set_xlabel('Points')\n",
    "axes[1].hist(df.OppPF,bins=np.arange(0, 130, 5).tolist(), label = 'Pts Against')\n",
    "plt.show()"
   ]
  },
  {
   "cell_type": "code",
   "execution_count": null,
   "metadata": {},
   "outputs": [],
   "source": []
  }
 ],
 "metadata": {
  "kernelspec": {
   "display_name": "Python 3",
   "language": "python",
   "name": "python3"
  },
  "language_info": {
   "codemirror_mode": {
    "name": "ipython",
    "version": 3
   },
   "file_extension": ".py",
   "mimetype": "text/x-python",
   "name": "python",
   "nbconvert_exporter": "python",
   "pygments_lexer": "ipython3",
   "version": "3.7.2"
  }
 },
 "nbformat": 4,
 "nbformat_minor": 2
}
