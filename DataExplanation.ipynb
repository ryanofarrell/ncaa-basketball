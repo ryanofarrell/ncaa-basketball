{
 "cells": [
  {
   "cell_type": "code",
   "execution_count": 1,
   "metadata": {},
   "outputs": [],
   "source": [
    "import pandas as pd\n",
    "from db import get_db"
   ]
  },
  {
   "cell_type": "code",
   "execution_count": 2,
   "metadata": {},
   "outputs": [
    {
     "name": "stdout",
     "output_type": "stream",
     "text": [
      "Connected to database: dev\n"
     ]
    }
   ],
   "source": [
    "db = get_db('docker_database.ini')"
   ]
  },
  {
   "cell_type": "code",
   "execution_count": 3,
   "metadata": {},
   "outputs": [
    {
     "data": {
      "text/plain": [
       "['games', 'test', 'seasonteams']"
      ]
     },
     "execution_count": 3,
     "metadata": {},
     "output_type": "execute_result"
    }
   ],
   "source": [
    "db.list_collection_names()"
   ]
  },
  {
   "cell_type": "code",
   "execution_count": 4,
   "metadata": {},
   "outputs": [
    {
     "data": {
      "text/plain": [
       "'games'"
      ]
     },
     "execution_count": 4,
     "metadata": {},
     "output_type": "execute_result"
    }
   ],
   "source": [
    "db.games.name"
   ]
  },
  {
   "cell_type": "markdown",
   "metadata": {},
   "source": [
    "At a collection level there are many things to do. Docs: https://api.mongodb.com/python/current/api/pymongo/collection.html\n",
    "\n",
    "MongoDB's version of CRUD is IRUD (replacing create with insert)"
   ]
  },
  {
   "cell_type": "code",
   "execution_count": 7,
   "metadata": {},
   "outputs": [
    {
     "data": {
      "text/plain": [
       "<pymongo.cursor.Cursor at 0x12280b410>"
      ]
     },
     "execution_count": 7,
     "metadata": {},
     "output_type": "execute_result"
    }
   ],
   "source": [
    "filter = {\n",
    "    'TmName': 'Florida',\n",
    "    'Season': 2020\n",
    "}\n",
    "fields = {\n",
    "    '_id': 0\n",
    "}\n",
    "results = db.games.find(filter, fields)\n",
    "results"
   ]
  },
  {
   "cell_type": "code",
   "execution_count": 8,
   "metadata": {},
   "outputs": [
    {
     "name": "stdout",
     "output_type": "stream",
     "text": [
      "     GameDate  GameOT  OppID  OppPF  Season  TmID TmLoc  TmPF  OppAst  OppBlk  \\\n",
      "0  2019-11-17     0.0   1163     62    2020  1196     A    59    11.0     4.0   \n",
      "1  2019-11-24     0.0   1462     65    2020  1196     N    70    13.0     2.0   \n",
      "2  2019-11-14     0.0   1406     60    2020  1196     H    66    10.0     3.0   \n",
      "3  2019-11-21     0.0   1386     62    2020  1196     N    70     9.0     5.0   \n",
      "4  2019-11-05     0.0   1316     59    2020  1196     H    74    13.0     0.0   \n",
      "5  2019-11-10     0.0   1199     63    2020  1196     H    51    11.0     5.0   \n",
      "6  2019-11-22     0.0   1274     58    2020  1196     N    78    10.0     4.0   \n",
      "7  2019-11-29     0.0   1267     67    2020  1196     H    73    12.0     5.0   \n",
      "8  2019-12-07     0.0   1139     76    2020  1196     A    62    19.0     2.0   \n",
      "9  2019-12-17     0.0   1344     51    2020  1196     N    83     8.0     1.0   \n",
      "10 2019-12-21     0.0   1429     65    2020  1196     N    62    19.0     3.0   \n",
      "11 2019-12-28     0.0   1253     63    2020  1196     H   102     6.0     0.0   \n",
      "12 2020-01-04     2.0   1104     98    2020  1196     H   104    11.0     2.0   \n",
      "13 2020-01-07     0.0   1376     68    2020  1196     A    81    11.0     3.0   \n",
      "14 2020-01-11     0.0   1281     91    2020  1196     A    75    18.0     2.0   \n",
      "15 2020-01-14     0.0   1279     55    2020  1196     H    71     3.0     2.0   \n",
      "\n",
      "    ...  OppFTPct  TmMargin  OppMargin  TmWin  OppWin  isRegularSeason  \\\n",
      "0   ...  0.727273        -3          3      0       1             True   \n",
      "1   ...  0.800000         5         -5      1       0             True   \n",
      "2   ...  0.750000         6         -6      1       0             True   \n",
      "3   ...  0.684211         8         -8      1       0             True   \n",
      "4   ...  0.600000        15        -15      1       0             True   \n",
      "5   ...  0.782609       -12         12      0       1             True   \n",
      "6   ...  0.454545        20        -20      1       0             True   \n",
      "7   ...  0.625000         6         -6      1       0             True   \n",
      "8   ...  0.772727       -14         14      0       1             True   \n",
      "9   ...  0.588235        32        -32      1       0             True   \n",
      "10  ...  0.727273        -3          3      0       1             True   \n",
      "11  ...  0.684211        39        -39      1       0             True   \n",
      "12  ...  0.676471         6         -6      1       0             True   \n",
      "13  ...  0.750000        13        -13      1       0             True   \n",
      "14  ...  0.750000       -16         16      0       1             True   \n",
      "15  ...  0.800000        16        -16      1       0             True   \n",
      "\n",
      "       TmPoss    OppPoss   TmName         OppName  \n",
      "0   64.348801  64.348801  Florida     Connecticut  \n",
      "1   64.975000  64.975000  Florida          Xavier  \n",
      "2   61.945194  61.945194  Florida          Towson  \n",
      "3   69.162612  69.162612  Florida  St Joseph's PA  \n",
      "4   67.467143  67.467143  Florida   North Florida  \n",
      "5   63.261417  63.261417  Florida      Florida St  \n",
      "6   65.142157  65.142157  Florida        Miami FL  \n",
      "7   73.177476  73.177476  Florida        Marshall  \n",
      "8   62.805929  62.805929  Florida          Butler  \n",
      "9   65.604493  65.604493  Florida      Providence  \n",
      "10  65.557222  65.557222  Florida         Utah St  \n",
      "11  77.331754  77.331754  Florida   Long Beach St  \n",
      "12  90.846304  90.846304  Florida         Alabama  \n",
      "13  72.819528  72.819528  Florida  South Carolina  \n",
      "14  65.533857  65.533857  Florida        Missouri  \n",
      "15  61.551150  61.551150  Florida     Mississippi  \n",
      "\n",
      "[16 rows x 61 columns]\n"
     ]
    }
   ],
   "source": [
    "print(pd.DataFrame(list(db.games.find(filter, fields))))"
   ]
  },
  {
   "cell_type": "markdown",
   "metadata": {},
   "source": [
    "Most data analysis/manipulation is in pandas. "
   ]
  },
  {
   "cell_type": "markdown",
   "metadata": {},
   "source": [
    "Front-end so far I have used Tableau and streamlit (https://docs.streamlit.io/api.html)"
   ]
  },
  {
   "cell_type": "code",
   "execution_count": null,
   "metadata": {},
   "outputs": [],
   "source": []
  }
 ],
 "metadata": {
  "file_extension": ".py",
  "kernelspec": {
   "display_name": "Python 3",
   "language": "python",
   "name": "python3"
  },
  "language_info": {
   "codemirror_mode": {
    "name": "ipython",
    "version": 3
   },
   "file_extension": ".py",
   "mimetype": "text/x-python",
   "name": "python",
   "nbconvert_exporter": "python",
   "pygments_lexer": "ipython3",
   "version": "3.7.5"
  },
  "mimetype": "text/x-python",
  "name": "python",
  "npconvert_exporter": "python",
  "pygments_lexer": "ipython3",
  "version": 3
 },
 "nbformat": 4,
 "nbformat_minor": 2
}
